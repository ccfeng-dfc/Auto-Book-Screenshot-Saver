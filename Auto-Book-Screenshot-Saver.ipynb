{
 "cells": [
  {
   "cell_type": "code",
   "execution_count": null,
   "metadata": {},
   "outputs": [],
   "source": [
    "# conda create --name keyboard python=3.8\n",
    "!pip install pyautogui"
   ]
  },
  {
   "cell_type": "code",
   "execution_count": null,
   "metadata": {},
   "outputs": [],
   "source": [
    "import pyautogui\n",
    "import time"
   ]
  },
  {
   "cell_type": "code",
   "execution_count": null,
   "metadata": {},
   "outputs": [],
   "source": [
    "ImgCount = 1000\n",
    "counter = 0\n",
    "time.sleep(10)\n",
    "pyautogui.moveTo(1500, 500, duration = 3)\n",
    "while counter < ImgCount:\n",
    "    img = pyautogui.screenshot()\n",
    "    img.save(rf\"/path/to/folder/you/want/Page-{counter}-{counter + 1}.png\")\n",
    "    print(counter, \" saved\")\n",
    "    counter += 2\n",
    "    pyautogui.press('right')\n",
    "    time.sleep(1.5)"
   ]
  }
 ],
 "metadata": {
  "interpreter": {
   "hash": "03f7516c8b3347014dfa0d3e08d71e061872b1450652ee53220ccc7e742545b4"
  },
  "kernelspec": {
   "display_name": "Python 3.8.13 ('keyboard')",
   "language": "python",
   "name": "python3"
  },
  "language_info": {
   "codemirror_mode": {
    "name": "ipython",
    "version": 3
   },
   "file_extension": ".py",
   "mimetype": "text/x-python",
   "name": "python",
   "nbconvert_exporter": "python",
   "pygments_lexer": "ipython3",
   "version": "3.8.13"
  },
  "orig_nbformat": 4
 },
 "nbformat": 4,
 "nbformat_minor": 2
}
